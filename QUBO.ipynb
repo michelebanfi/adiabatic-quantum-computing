{
 "cells": [
  {
   "cell_type": "code",
   "id": "initial_id",
   "metadata": {
    "collapsed": true,
    "ExecuteTime": {
     "end_time": "2024-05-07T07:27:14.105420Z",
     "start_time": "2024-05-07T07:27:14.102360Z"
    }
   },
   "source": [
    "import dwave_networkx as dnx # contains the topologies of the dwave's quantum computers\n",
    "import matplotlib.pyplot as plt\n",
    "from dwave.cloud import Client\n",
    "import pandas as pd\n",
    "with Client.from_config() as client:"
   ],
   "outputs": [],
   "execution_count": null
  },
  {
   "metadata": {},
   "cell_type": "code",
   "outputs": [],
   "execution_count": null,
   "source": [
    "with Client.from_config() as client:\n",
    "  solver = client.get_solver('Advantage_system6.4')"
   ],
   "id": "3b77af75d8d7f409"
  },
  {
   "metadata": {},
   "cell_type": "code",
   "outputs": [],
   "execution_count": null,
   "source": [
    "def EnergyCost(x1, x2, x3):\n",
    "  "
   ],
   "id": "ff146e3eaa648d2c"
  }
 ],
 "metadata": {
  "kernelspec": {
   "display_name": "Python 3",
   "language": "python",
   "name": "python3"
  },
  "language_info": {
   "codemirror_mode": {
    "name": "ipython",
    "version": 2
   },
   "file_extension": ".py",
   "mimetype": "text/x-python",
   "name": "python",
   "nbconvert_exporter": "python",
   "pygments_lexer": "ipython2",
   "version": "2.7.6"
  }
 },
 "nbformat": 4,
 "nbformat_minor": 5
}
